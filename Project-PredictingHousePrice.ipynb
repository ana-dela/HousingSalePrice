{
 "cells": [
  {
   "cell_type": "markdown",
   "metadata": {},
   "source": [
    "# Prediction of houses sale price\n",
    "## 1-Introduction\n",
    "In this project we build a **linear regression model** to predict house sale price for the city of Ames, Iowa, United States. \n",
    "The data set has been used consists of data about housing in the city of Ame from 2006 to 2010.\n",
    "First we clean the dataset and then select the efficient features to train the model. \n",
    "Afterwards we fit the model and evaluate it using **K fold cross validation** method. \n",
    "\n",
    "\n",
    "## 2-settig up the environment"
   ]
  },
  {
   "cell_type": "code",
   "execution_count": 1,
   "metadata": {},
   "outputs": [],
   "source": [
    "#import libraries and modules\n",
    "import pandas as pd\n",
    "import numpy as np\n",
    "import matplotlib.pyplot as plt\n",
    "import seaborn as sns\n",
    "from sklearn.linear_model import LinearRegression\n",
    "from sklearn.metrics import mean_squared_error\n",
    "from sklearn.model_selection import KFold, cross_val_score\n"
   ]
  },
  {
   "cell_type": "markdown",
   "metadata": {},
   "source": [
    "## 3-reading the data and initial inspection"
   ]
  },
  {
   "cell_type": "code",
   "execution_count": 2,
   "metadata": {},
   "outputs": [
    {
     "name": "stdout",
     "output_type": "stream",
     "text": [
      "<class 'pandas.core.frame.DataFrame'>\n",
      "RangeIndex: 2930 entries, 0 to 2929\n",
      "Data columns (total 82 columns):\n",
      " #   Column           Non-Null Count  Dtype  \n",
      "---  ------           --------------  -----  \n",
      " 0   Order            2930 non-null   int64  \n",
      " 1   PID              2930 non-null   int64  \n",
      " 2   area             2930 non-null   int64  \n",
      " 3   price            2930 non-null   int64  \n",
      " 4   MS.SubClass      2930 non-null   int64  \n",
      " 5   MS.Zoning        2930 non-null   object \n",
      " 6   Lot.Frontage     2440 non-null   float64\n",
      " 7   Lot.Area         2930 non-null   int64  \n",
      " 8   Street           2930 non-null   object \n",
      " 9   Alley            198 non-null    object \n",
      " 10  Lot.Shape        2930 non-null   object \n",
      " 11  Land.Contour     2930 non-null   object \n",
      " 12  Utilities        2930 non-null   object \n",
      " 13  Lot.Config       2930 non-null   object \n",
      " 14  Land.Slope       2930 non-null   object \n",
      " 15  Neighborhood     2930 non-null   object \n",
      " 16  Condition.1      2930 non-null   object \n",
      " 17  Condition.2      2930 non-null   object \n",
      " 18  Bldg.Type        2930 non-null   object \n",
      " 19  House.Style      2930 non-null   object \n",
      " 20  Overall.Qual     2930 non-null   int64  \n",
      " 21  Overall.Cond     2930 non-null   int64  \n",
      " 22  Year.Built       2930 non-null   int64  \n",
      " 23  Year.Remod.Add   2930 non-null   int64  \n",
      " 24  Roof.Style       2930 non-null   object \n",
      " 25  Roof.Matl        2930 non-null   object \n",
      " 26  Exterior.1st     2930 non-null   object \n",
      " 27  Exterior.2nd     2930 non-null   object \n",
      " 28  Mas.Vnr.Type     2907 non-null   object \n",
      " 29  Mas.Vnr.Area     2907 non-null   float64\n",
      " 30  Exter.Qual       2930 non-null   object \n",
      " 31  Exter.Cond       2930 non-null   object \n",
      " 32  Foundation       2930 non-null   object \n",
      " 33  Bsmt.Qual        2850 non-null   object \n",
      " 34  Bsmt.Cond        2850 non-null   object \n",
      " 35  Bsmt.Exposure    2847 non-null   object \n",
      " 36  BsmtFin.Type.1   2850 non-null   object \n",
      " 37  BsmtFin.SF.1     2929 non-null   float64\n",
      " 38  BsmtFin.Type.2   2849 non-null   object \n",
      " 39  BsmtFin.SF.2     2929 non-null   float64\n",
      " 40  Bsmt.Unf.SF      2929 non-null   float64\n",
      " 41  Total.Bsmt.SF    2929 non-null   float64\n",
      " 42  Heating          2930 non-null   object \n",
      " 43  Heating.QC       2930 non-null   object \n",
      " 44  Central.Air      2930 non-null   object \n",
      " 45  Electrical       2929 non-null   object \n",
      " 46  X1st.Flr.SF      2930 non-null   int64  \n",
      " 47  X2nd.Flr.SF      2930 non-null   int64  \n",
      " 48  Low.Qual.Fin.SF  2930 non-null   int64  \n",
      " 49  Bsmt.Full.Bath   2928 non-null   float64\n",
      " 50  Bsmt.Half.Bath   2928 non-null   float64\n",
      " 51  Full.Bath        2930 non-null   int64  \n",
      " 52  Half.Bath        2930 non-null   int64  \n",
      " 53  Bedroom.AbvGr    2930 non-null   int64  \n",
      " 54  Kitchen.AbvGr    2930 non-null   int64  \n",
      " 55  Kitchen.Qual     2930 non-null   object \n",
      " 56  TotRms.AbvGrd    2930 non-null   int64  \n",
      " 57  Functional       2930 non-null   object \n",
      " 58  Fireplaces       2930 non-null   int64  \n",
      " 59  Fireplace.Qu     1508 non-null   object \n",
      " 60  Garage.Type      2773 non-null   object \n",
      " 61  Garage.Yr.Blt    2771 non-null   float64\n",
      " 62  Garage.Finish    2771 non-null   object \n",
      " 63  Garage.Cars      2929 non-null   float64\n",
      " 64  Garage.Area      2929 non-null   float64\n",
      " 65  Garage.Qual      2771 non-null   object \n",
      " 66  Garage.Cond      2771 non-null   object \n",
      " 67  Paved.Drive      2930 non-null   object \n",
      " 68  Wood.Deck.SF     2930 non-null   int64  \n",
      " 69  Open.Porch.SF    2930 non-null   int64  \n",
      " 70  Enclosed.Porch   2930 non-null   int64  \n",
      " 71  X3Ssn.Porch      2930 non-null   int64  \n",
      " 72  Screen.Porch     2930 non-null   int64  \n",
      " 73  Pool.Area        2930 non-null   int64  \n",
      " 74  Pool.QC          13 non-null     object \n",
      " 75  Fence            572 non-null    object \n",
      " 76  Misc.Feature     106 non-null    object \n",
      " 77  Misc.Val         2930 non-null   int64  \n",
      " 78  Mo.Sold          2930 non-null   int64  \n",
      " 79  Yr.Sold          2930 non-null   int64  \n",
      " 80  Sale.Type        2930 non-null   object \n",
      " 81  Sale.Condition   2930 non-null   object \n",
      "dtypes: float64(11), int64(28), object(43)\n",
      "memory usage: 1.8+ MB\n"
     ]
    }
   ],
   "source": [
    "#read the dataset and display basic info\n",
    "housing=pd.read_csv('/Users/azid1/Desktop/data science in dataquest/housing_data.csv')\n",
    "housing.info()"
   ]
  },
  {
   "cell_type": "code",
   "execution_count": 3,
   "metadata": {},
   "outputs": [
    {
     "data": {
      "text/plain": [
       "<matplotlib.axes._subplots.AxesSubplot at 0x7ff3bcd75790>"
      ]
     },
     "execution_count": 3,
     "metadata": {},
     "output_type": "execute_result"
    },
    {
     "data": {
      "image/png": "[encoded data removed]",
      "text/plain": [
       "<Figure size 720x360 with 1 Axes>"
      ]
     },
     "metadata": {
      "needs_background": "light"
     },
     "output_type": "display_data"
    }
   ],
   "source": [
    "#display the number of null values in different columns\n",
    "null_columns=housing.isnull().sum()\n",
    "mask=null_columns!=0\n",
    "null_columns=null_columns[mask].sort_values(ascending=False)\n",
    "null_columns.plot.bar(figsize=(10,5))\n"
   ]
  },
  {
   "cell_type": "markdown",
   "metadata": {},
   "source": [
    "## 4-feature engineering\n",
    "- **null values** <br>\n",
    " we drop all features with more than 5% null values and text-features with less than 5% . the numeric-features with less than 5% null values will be replaced with their mean. \n",
    "- **domain-dependent feature transformation** <br>\n",
    "in this part we transform features based on domain-dependent knowledge. in our case the age of houses could be more relevant than the year of selling or remodel.  \n",
    "- **categorical features**<br>\n",
    "we keep categorical features with less than 10 categories as dummy-coded data and drop the rest. \n",
    "- **text features**<br>\n",
    "after previous steps all remained text-columns will be droped.\n",
    "- **low-correlated features** <br>\n",
    "among remained numeric features, those which have a high correlation with object column will be kept.\n"
   ]
  },
  {
   "cell_type": "code",
   "execution_count": 4,
   "metadata": {},
   "outputs": [],
   "source": [
    "#drop columns with null values more than 5%\n",
    "mask=housing.isnull().sum()<len(housing)/20\n",
    "housing=housing.loc[:,mask]\n",
    "\n",
    "#drop text-columns with null values less than 5%\n",
    "obj_cols_null=(housing.select_dtypes(include=['object']).isnull().sum())>0\n",
    "obj_cols_null=obj_cols_null[obj_cols_null==1].index\n",
    "obj_cols_null\n",
    "housing=housing.drop(columns=obj_cols_null)\n",
    "#numeric-columns with null values less then 5% are replaced with mean of column.\n",
    "housing=housing.fillna(housing.mean())"
   ]
  },
  {
   "cell_type": "code",
   "execution_count": 5,
   "metadata": {},
   "outputs": [
    {
     "data": {
      "text/plain": [
       "0    64\n",
       "dtype: int64"
      ]
     },
     "execution_count": 5,
     "metadata": {},
     "output_type": "execute_result"
    }
   ],
   "source": [
    "#making sure that all null values have been dealt with\n",
    "housing.isnull().sum().value_counts()"
   ]
  },
  {
   "cell_type": "code",
   "execution_count": 6,
   "metadata": {},
   "outputs": [],
   "source": [
    "#transform featues based on domain-dependent info\n",
    "housing['age']= housing['Yr.Sold'] - housing['Year.Built']\n",
    "housing['years since remod'] = housing['Yr.Sold'] - housing['Year.Remod.Add']\n",
    "housing=housing.drop(columns=['Yr.Sold', 'Year.Built', 'Year.Remod.Add'])\n",
    "\n",
    "#drop categorical features with unique value more than 10\n",
    "categorical_features=[\"PID\", \"MS.SubClass\", \"MS.Zoning\", \"Street\", \"Land.Contour\", \"Lot.Config\", \"Neighborhood\", \n",
    "                    \"Condition.1\", \"Condition.2\", \"Bldg.Type\", \"House.Style\", \"Roof.Style\", \"Roof.Matl\", \"Exterior.1st\", \n",
    "                    \"Exterior.2nd\", \"Foundation\", \"Heating\", \"Central.Air\", \n",
    "                    \"Sale.Condition\"]\n",
    "unique_k= [feature for feature in categorical_features if len(housing[feature].unique())>10 ]\n",
    "housing= housing.drop(columns=unique_k)\n",
    "\n",
    "#change the type of objects columns to category\n",
    "text_features=housing.select_dtypes(include=['object']).columns\n",
    "for feature in text_features:\n",
    "    housing[feature]=housing[feature].astype('category')\n",
    "    dummy=pd.get_dummies(housing[feature])\n",
    "    housing= pd.concat([housing, dummy], axis=1)\n",
    "    \n",
    "#drop text-columns\n",
    "housing= housing.drop(columns=text_features)\n",
    "\n",
    "#drop columns with correlation less than 0.4\n",
    "abs_corr=housing.corr()['price'].abs()\n",
    "low_corr_cols=abs_corr[abs_corr<0.4].index\n",
    "housing=housing.drop(columns=low_corr_cols)\n",
    "\n"
   ]
  },
  {
   "cell_type": "markdown",
   "metadata": {},
   "source": [
    "## 5-train and test\n",
    "in this part we create a linear regression model to predict new data. the efficiency of the model is tested by **K-fold cross validation** method. we analyze the change of **MSE** based on diffenet K folds. "
   ]
  },
  {
   "cell_type": "code",
   "execution_count": 7,
   "metadata": {},
   "outputs": [],
   "source": [
    "def train_and_test_k(df,k):\n",
    "    \"\"\"\n",
    "    this function builds a linear redression model and returns rmses for different k folds.\n",
    "    scoring=\"neg_mean_squared_error\"\n",
    "    \n",
    "    parameters\n",
    "    ----------\n",
    "    df: class DataFrame\n",
    "    k: int\n",
    "    \n",
    "    returns\n",
    "    -------\n",
    "    class list\n",
    "    \n",
    "    \"\"\"\n",
    "    #select features\n",
    "    features = df.columns.drop(\"price\")\n",
    "    #make an instance of model\n",
    "    lr=LinearRegression()\n",
    "    #test the model\n",
    "    kf=KFold(k,shuffle=True,random_state=1)\n",
    "    mses=cross_val_score(lr,df[features],df[\"price\"],scoring=\"neg_mean_squared_error\",cv=kf)\n",
    "    rmses = np.sqrt(np.absolute(mses))\n",
    "    avg_rmse = np.mean(rmses)\n",
    "    return avg_rmse, mses\n",
    "\n",
    "def train_and_test_k_r2(df,k):\n",
    "    \"\"\"\n",
    "    this function builds a linear redression model and returns rmses for different k folds.\n",
    "    scoring=\"r2\"\n",
    "    \n",
    "    parameters\n",
    "    ----------\n",
    "    df: class DataFrame\n",
    "    k: int\n",
    "    \n",
    "    returns\n",
    "    -------\n",
    "    class list\n",
    "    \n",
    "    \"\"\"\n",
    "    #select features\n",
    "    features = df.columns.drop(\"price\")\n",
    "    #make an instance of model\n",
    "    lr=LinearRegression()\n",
    "    #test the model\n",
    "    kf=KFold(k,shuffle=True,random_state=1)\n",
    "    mses=cross_val_score(lr,df[features],df[\"price\"],scoring=\"r2\",cv=kf)\n",
    "    rmses = np.sqrt(np.absolute(mses))\n",
    "    avg_rmse = np.mean(rmses)\n",
    "    return avg_rmse, mses"
   ]
  },
  {
   "cell_type": "code",
   "execution_count": 8,
   "metadata": {},
   "outputs": [
    {
     "name": "stdout",
     "output_type": "stream",
     "text": [
      "[34567.367687765916, 34845.35582572719, 34312.0799084542, 34744.8245538295, 34725.133509760046, 34543.257415604436, 34356.868372004945, 34581.12142455496, 34224.00676920979]\n"
     ]
    },
    {
     "data": {
      "text/plain": [
       "Text(0, 0.5, 'avg-RMSE')"
      ]
     },
     "execution_count": 8,
     "metadata": {},
     "output_type": "execute_result"
    },
    {
     "data": {
      "image/png": "[encoded data removed]",
      "text/plain": [
       "<Figure size 432x288 with 1 Axes>"
      ]
     },
     "metadata": {
      "needs_background": "light"
     },
     "output_type": "display_data"
    }
   ],
   "source": [
    "# k in range 2:5 and scoring=\"neg_mean_squared_error\"\n",
    "avg_rmse_list=[]\n",
    "for k in range(2,11):\n",
    "    avg_rmse_list.append(train_and_test_k(housing,k)[0])\n",
    "print(avg_rmse_list)\n",
    "\n",
    "fig , ax = plt.subplots()\n",
    "ax.plot(range(2,11), avg_rmse_list)\n",
    "plt.title('scoring=\"neg_mean_squared_error\"')\n",
    "plt.xlabel('number of folds')\n",
    "plt.ylabel('avg-RMSE')"
   ]
  },
  {
   "cell_type": "code",
   "execution_count": 9,
   "metadata": {},
   "outputs": [
    {
     "name": "stdout",
     "output_type": "stream",
     "text": [
      "[0.9014594986348381, 0.8994839967377639, 0.902208722859857, 0.8988543605486881, 0.8972107188248025, 0.8983035347943306, 0.899321800664477, 0.896711175092856, 0.8997784865597458]\n"
     ]
    },
    {
     "data": {
      "text/plain": [
       "Text(0, 0.5, 'avg-RMSE')"
      ]
     },
     "execution_count": 9,
     "metadata": {},
     "output_type": "execute_result"
    },
    {
     "data": {
      "image/png": "[encoded data removed]",
      "text/plain": [
       "<Figure size 432x288 with 1 Axes>"
      ]
     },
     "metadata": {
      "needs_background": "light"
     },
     "output_type": "display_data"
    }
   ],
   "source": [
    "# k in range 2:5 and scoring=\"r2\"\n",
    "avg_rmse_list=[]\n",
    "for k in range(2,11):\n",
    "    avg_rmse_list.append(train_and_test_k_r2(housing,k)[0])\n",
    "print(avg_rmse_list)\n",
    "\n",
    "fig , ax = plt.subplots()\n",
    "ax.plot(range(2,11), avg_rmse_list)\n",
    "plt.title('scoring=\"r2\"')\n",
    "plt.xlabel('number of folds')\n",
    "plt.ylabel('avg-RMSE')"
   ]
  }
 ],
 "metadata": {
  "kernelspec": {
   "display_name": "Python 3",
   "language": "python",
   "name": "python3"
  },
  "language_info": {
   "codemirror_mode": {
    "name": "ipython",
    "version": 3
   },
   "file_extension": ".py",
   "mimetype": "text/x-python",
   "name": "python",
   "nbconvert_exporter": "python",
   "pygments_lexer": "ipython3",
   "version": "3.7.6"
  }
 },
 "nbformat": 4,
 "nbformat_minor": 4
}
